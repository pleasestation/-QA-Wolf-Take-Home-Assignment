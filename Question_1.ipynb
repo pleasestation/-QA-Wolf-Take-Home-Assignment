{
 "cells": [
  {
   "cell_type": "markdown",
   "id": "4d3064a3-16f7-4799-a433-56283cfdc438",
   "metadata": {},
   "source": [
    "## Question 1 ##"
   ]
  },
  {
   "cell_type": "markdown",
   "id": "c0a48013-52de-443f-a0e9-aa3fd0641e2e",
   "metadata": {},
   "source": [
    "# Assignment: Hacker News Script using JavaScript and Playwright\r\n",
    "\r\n",
    "## Objective\r\n",
    "In this assignment, you will create a script to validate the sorting of articles on Hacker News using JavaScript and Microsoft's Playwright framework.\r\n",
    "\r\n",
    "## Steps to Complete\r\n",
    "\r\n",
    "1. **Install Node Modules**\r\n",
    "   - Open your terminal and navigate to the project directory.\r\n",
    "   - Run the following command to install the necessary Node modules:\r\n",
    "     ```bash\r\n",
    "     npm i\r\n",
    "     ```\r\n",
    "\r\n",
    "2. **Edit the `index.js` File**\r\n",
    "   - In the project directory, locate the `index.js` file.\r\n",
    "   - Modify this file to implement the following functionality:\r\n",
    "     - Navigate to the Hacker News \"Newest\" section (`https://news.ycombinator.com/newest`).\r\n",
    "     - Validate that **EXACTLY** the first 100 articles are sorted from newest to oldest.\r\n",
    "\r\n",
    "3. **Run the Script**\r\n",
    "   - After editing the `index.js` file, run the script using the following command:\r\n",
    "     ```bash\r\n",
    "     node index.js\r\n",
    "     ```\r\n",
    "\r\n",
    "## Notes\r\n",
    "\r\n",
    "- You are free to update Playwright or install other packages as needed, but Playwright must be used in this assignment.\r\n",
    "- Ensure your script accurately validates the sorting of the articles based on the timestamp.\r\n",
    "\r\n",
    "## Resources\r\n",
    "- [Playwright Documentation](https://playwright.dev/docs/intro)\r\n",
    "- [Hacker News](https\r\n"
   ]
  },
  {
   "cell_type": "markdown",
   "id": "2a149eb2-8686-4908-b84d-da46012e7738",
   "metadata": {},
   "source": [
    "## Step 1: Set Up My Project\n",
    "\n",
    "### Initialize a Node.js Project\n",
    "\n",
    "1. **Create a New Directory:**\n",
    "   - Open your terminal and create a new directory for your project:\n",
    "     ```bash\n",
    "     mkdir my-project-name\n",
    "     ```\n",
    "   - Replace `my-project-name` with the path `E:\\WORKS\\DA\\JOB_APPLICATIONS\\QA_WOLF\\qa_wolf_take_home_solved`.\n",
    "\n",
    "2. **Navigate to the Directory:**\n",
    "   - Move into your new project directory:\n",
    "     ```bash\n",
    "     cd my-project-name\n",
    "     ```\n",
    "\n",
    "3. **Initialize a New Node.js Project:**\n",
    "   - Run the following command to initialize a new Node.js project:\n",
    "     ```bash\n",
    "     npm init -y\n",
    "     ```\n",
    "\n",
    "This will create a `package.json` file in your project directory, setting up the foundation for your Node.js project.\n"
   ]
  },
  {
   "cell_type": "markdown",
   "id": "911f0144-ffb6-44f2-9eb9-f24c49aa3391",
   "metadata": {},
   "source": [
    "## Source `index.js` ##"
   ]
  },
  {
   "cell_type": "markdown",
   "id": "7097e1d8-4f1f-4680-aca9-dee2a6c6ea52",
   "metadata": {},
   "source": [
    "```java\n",
    "const { chromium } = require('playwright');\n",
    "\n",
    "(async () => {\n",
    "    // Launch the Chromium browser\n",
    "    const browser = await chromium.launch();\n",
    "    const page = await browser.newPage();\n",
    "\n",
    "    // Navigate to the Hacker News /newest page\n",
    "    await page.goto('https://news.ycombinator.com/newest');\n",
    "\n",
    "    // Extract article titles and their timestamps\n",
    "    const articles = await page.evaluate(() => {\n",
    "        const articleElements = document.querySelectorAll('.itemlist .athing');\n",
    "        return Array.from(articleElements).slice(0, 100).map(article => {\n",
    "            const title = article.querySelector('.storylink').textContent;\n",
    "            const timestampElement = article.nextElementSibling.querySelector('.age a');\n",
    "            const timestamp = timestampElement.getAttribute('title');\n",
    "            return { title, timestamp };\n",
    "        });\n",
    "    });\n",
    "\n",
    "    // Close the browser\n",
    "    await browser.close();\n",
    "\n",
    "    // Check that the number of articles is exactly 100\n",
    "    if (articles.length !== 100) {\n",
    "        console.error('Error: The number of articles is not 100.');\n",
    "        process.exit(1);\n",
    "    }\n",
    "\n",
    "    // Convert timestamps to Date format\n",
    "    const parseTimestamp = timestamp => {\n",
    "        const [dateStr, timeStr] = timestamp.split(' - ');\n",
    "        return new Date(`${dateStr} ${timeStr}`);\n",
    "    };\n",
    "\n",
    "    // Validate that articles are sorted from newest to oldest\n",
    "    for (let i = 1; i < articles.length; i++) {\n",
    "        if (parseTimestamp(articles[i - 1].timestamp) <\n",
    "\n"
   ]
  },
  {
   "cell_type": "markdown",
   "id": "a1679a13-64c7-41bc-b149-a5c86521e2e2",
   "metadata": {},
   "source": [
    "## Edited `index.js` ##"
   ]
  },
  {
   "cell_type": "markdown",
   "id": "8afb9554-a5a5-4a65-a2e9-20a344c7232a",
   "metadata": {},
   "source": [
    "\r\n",
    "\r\n",
    "<div style=\"border: 2px solid #000; padding: 10px; border-radius: 5px; background-color: #f9f9f9;\">\r\n",
    "<pre><code>\r\n",
    "const { chromium } = require('playwright');\r\n",
    "\r\n",
    "(async () => {\r\n",
    "    // Launch a Chromium browser\r\n",
    "    const browser = await chromium.launch();\r\n",
    "    const page = await browser.newPage();\r\n",
    "\r\n",
    "    // Navigate to the Hacker News homepage\r\n",
    "    await page.goto('https://news.ycombinator.com/');\r\n",
    "\r\n",
    "    // Extract the titles of the top articles\r\n",
    "    const articleTitles = await page.evaluate(() => {\r\n",
    "        return Array.from(document.querySelectorAll('.storylink')).map(element => element.textContent);\r\n",
    "    });\r\n",
    "\r\n",
    "    // Print the titles to the console\r\n",
    "    console.log('Top articles on Hacker News:');\r\n",
    "    articleTitles.forEach((title, index) => {\r\n",
    "        console.log(`${index + 1}. ${title}`);\r\n",
    "    });\r\n",
    "\r\n",
    "    // Close the browser\r\n",
    "    await browser.close();\r\n",
    "})();\r\n",
    "</code></pre>\r\n",
    "</div>\r\n"
   ]
  },
  {
   "cell_type": "code",
   "execution_count": null,
   "id": "350d4e70-05e8-4572-a169-87289287bffb",
   "metadata": {},
   "outputs": [],
   "source": []
  }
 ],
 "metadata": {
  "kernelspec": {
   "display_name": "Python 3 (ipykernel)",
   "language": "python",
   "name": "python3"
  },
  "language_info": {
   "codemirror_mode": {
    "name": "ipython",
    "version": 3
   },
   "file_extension": ".py",
   "mimetype": "text/x-python",
   "name": "python",
   "nbconvert_exporter": "python",
   "pygments_lexer": "ipython3",
   "version": "3.12.4"
  }
 },
 "nbformat": 4,
 "nbformat_minor": 5
}
